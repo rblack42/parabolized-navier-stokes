{
 "cells": [
  {
   "cell_type": "markdown",
   "id": "ad333ba0",
   "metadata": {},
   "source": [
    "# Mach Number For Compressible Flow"
   ]
  },
  {
   "cell_type": "markdown",
   "id": "2d1735d5",
   "metadata": {},
   "source": [
    "The Mach Number is defined as follows{cite}`machnumber`:\n",
    "\n",
    "\\begin{equation}\n",
    "M = \\frac{u}{c}\n",
    "\\end{equation}\n",
    "\n",
    "Where:\n",
    "\n",
    "- $u$ is the velocity of the moving object\n",
    "- $c$ is the local speed of sound\n",
    "\n",
    "We can determine the speed of sound using this equation:\n",
    "\n",
    "\\begin{equation}\n",
    "c = \\sqrt{ \\gamma R_* T }\n",
    "\\end{equation}\n",
    "\n",
    "Where:\n",
    "\n",
    "- $\\gamma$ is the ratio if specific heats at constant pressure, which for air 1s 1.4\n",
    "- $R_*$ is the specific gas constant for air: 1,716.49 $(ft\\cdot lbf) / (slug \\cdot ^{\\circ}R)$\n",
    "- $T$ is the static air temperature"
   ]
  },
  {
   "cell_type": "markdown",
   "id": "d6c3af57",
   "metadata": {},
   "source": [
    "The Mach number for subsonic compressible flow is given by this equation:\n",
    "\n",
    "\\begin{equation}\n",
    "M = \\sqrt{\\frac{2}{\\gamma - 1}\\left[ \\left( \\frac{q}{p} + 1\\right)^{\\frac{\\gamma - 1}{\\gamma}} - 1 \\right]}\n",
    "\\end{equation}\n",
    "\n",
    "Where:\n",
    "\n",
    "- $q$ - is the dynamic pressure: $\\frac{1}{2}\\rho u^2$\n",
    "- $p$ - is the static pressure\n",
    "\n",
    "For supersonic flow, the mach number is given by Rayliegh's pitot equation:\n",
    "\n",
    "\\begin{equation}\n",
    "\\frac{P_t}{p} = \\left[\\frac{\\gamma + 1}{2}M^2\\right]^{\\frac{\\gamma}{\\gamma - 1}} \\\n",
    "    \\left[\\frac{\\gamma + 1}{1 - \\gamma + 2 \\gamma M^2}\\right]^{\\frac{1}{\\gamma - 1}}\n",
    "\\end{equation}\n",
    "\n",
    "With a bit of manipulation this leads to this equation for $M$:\n",
    "\n",
    "\\begin{equation}\n",
    "M \\approx 0.88128485 \\sqrt{\\left(\\frac{q}{p} + 1\\right)\\left(1 - \\frac{1}{7 M^2}\\right)}\n",
    "\\end{equation}"
   ]
  },
  {
   "cell_type": "markdown",
   "id": "32d708a1",
   "metadata": {},
   "source": [
    "Since $M$ appears on both sides of this equation, the solution is normally determined numerically. "
   ]
  },
  {
   "cell_type": "code",
   "execution_count": null,
   "id": "0e0fe0a8",
   "metadata": {},
   "outputs": [],
   "source": []
  },
  {
   "cell_type": "code",
   "execution_count": null,
   "id": "d74c1350",
   "metadata": {},
   "outputs": [],
   "source": []
  }
 ],
 "metadata": {
  "kernelspec": {
   "display_name": "Python 3 (ipykernel)",
   "language": "python",
   "name": "python3"
  },
  "language_info": {
   "codemirror_mode": {
    "name": "ipython",
    "version": 3
   },
   "file_extension": ".py",
   "mimetype": "text/x-python",
   "name": "python",
   "nbconvert_exporter": "python",
   "pygments_lexer": "ipython3",
   "version": "3.10.2"
  },
  "toc": {
   "base_numbering": 1,
   "nav_menu": {},
   "number_sections": true,
   "sideBar": true,
   "skip_h1_title": false,
   "title_cell": "Table of Contents",
   "title_sidebar": "Contents",
   "toc_cell": false,
   "toc_position": {},
   "toc_section_display": true,
   "toc_window_display": false
  },
  "varInspector": {
   "cols": {
    "lenName": 16,
    "lenType": 16,
    "lenVar": 40
   },
   "kernels_config": {
    "python": {
     "delete_cmd_postfix": "",
     "delete_cmd_prefix": "del ",
     "library": "var_list.py",
     "varRefreshCmd": "print(var_dic_list())"
    },
    "r": {
     "delete_cmd_postfix": ") ",
     "delete_cmd_prefix": "rm(",
     "library": "var_list.r",
     "varRefreshCmd": "cat(var_dic_list()) "
    }
   },
   "types_to_exclude": [
    "module",
    "function",
    "builtin_function_or_method",
    "instance",
    "_Feature"
   ],
   "window_display": false
  }
 },
 "nbformat": 4,
 "nbformat_minor": 5
}
