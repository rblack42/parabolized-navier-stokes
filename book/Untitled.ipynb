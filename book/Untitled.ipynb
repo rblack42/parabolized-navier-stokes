{
 "cells": [
  {
   "cell_type": "markdown",
   "id": "ca179470",
   "metadata": {},
   "source": [
    "# Dimensions"
   ]
  },
  {
   "cell_type": "markdown",
   "id": "af250eba",
   "metadata": {},
   "source": [
    "The full Navier-Stokes equations are a set of nine equations in as many unknowns. These unknowns, and their dimensional units are shown in this table:\n",
    "\n",
    "\n",
    "| Quantity | Symbol | English Units | Metric Units |\n",
    "|:-------- |:------:|:-------------:|:------------:|\n",
    "| Density  | $\\rho$ | $slugs / ft^2$| $kg/m^3$     |\n",
    "| Pressure | $P$    | $lbf/ft^2$    | $N/m^2$      |\n",
    "| Temperature | $T$ | $^{\\circ} R$  | $^{\\circ} K$ |\n",
    "| Total Enthalpy | $H$ | $ft^2/{sec}^2$ | $m^2/{sec}^2$ |\n",
    "| x Velocity | $u$ | $ft/sec$ | $m/sec$ |\n",
    "| y Velocity | $v$ | $ft/sec$ | $m/sec$ |\n",
    "| z Velocity | $w$ | $ft/sec$ | $m/sec$ |\n",
    "| Thermal Conductivity | $k$ | $lbf/(sec ^{\\circ}R)$ | $N/(sec ^{\\circ}K)$|\n",
    "| Kinematic viscosity | $\\mu$ | lbf sec / ft^2 | N sec / m^2 |"
   ]
  },
  {
   "cell_type": "markdown",
   "id": "f6cee412",
   "metadata": {},
   "source": [
    "In the physics world, it is common to indicate the dimensions of a quantity by surrounding it with square brackets. Thus, is $p$ is the symbol for pressure, $[p]$ indicated the units of that pressure, There are seven basic units we might use:\n",
    "\n",
    "| Base Quantity | Dimension Symbol |\n",
    "|:------------- |:--------------------:|\n",
    "| Length | $L$ |\n",
    "| Mass | $M$ |\n",
    "| Time | $T$ |\n",
    "| Current | $I$ |\n",
    "| Thermodynamic Temperature | $\\Theta$ |\n",
    "\n",
    "| Amount of a Substance | $N$ |\n",
    "| Luminous Intensity | $J$ |\n"
   ]
  },
  {
   "cell_type": "markdown",
   "id": "8bc931df",
   "metadata": {},
   "source": [
    "When we create a grouping of properties by multiplying them together we also create a grouping of dimensions. This can get confusing, so we often preform a *DImensional Analysis* on such groupings to make sure we have the correct units. \n",
    "\n",
    "A common way to do this is to create a grouping of al possible dimensions and assign an integer power to each one as needed t oexpress the dinensions of the grouping. For example the dynamic pressure is defined as:\n",
    "\n",
    "\\begin{equation}\n",
    "q = \\frac{2}{2}\\rho V^2\n",
    "\\end{equation}\n",
    "\n",
    "Where $V$ is a velocity\n",
    "\n",
    "Dimensionally, this becomes:\n",
    "\n",
    "\\begin{equation} \n",
    "[\\frac{1}{2}\\rho V^2] = 1ML^{-3}L^2T^{-2} = ML^{-1}T^{-2}\n",
    "\\end{equation}\n",
    "\n",
    "This does not look like a pressure. The reason is that we have neglected to include the force of gravity, needed to create a force according to Newton's second law:\n",
    "\n",
    "\\begin{equation}\n",
    "g = 32.174049 ft/{sec}^2 = LT^{-2}\n",
    "\\end{equation}\n",
    "\n",
    "\\begin{equation}\n",
    "F = ma = MLT^{-2}\n",
    "\\end{equation}\n",
    "\n",
    "The units of acceleration are $ft/{sec}^2$ which is $L/T^2$. Dividing the right-hand side above by an acceleration gives this:\n",
    "\n",
    "\\begin{equation}\n",
    "ML^{-2}\n",
    "\\end{equation}"
   ]
  },
  {
   "cell_type": "code",
   "execution_count": null,
   "id": "abf38783",
   "metadata": {},
   "outputs": [],
   "source": []
  }
 ],
 "metadata": {
  "kernelspec": {
   "display_name": "Python 3 (ipykernel)",
   "language": "python",
   "name": "python3"
  },
  "language_info": {
   "codemirror_mode": {
    "name": "ipython",
    "version": 3
   },
   "file_extension": ".py",
   "mimetype": "text/x-python",
   "name": "python",
   "nbconvert_exporter": "python",
   "pygments_lexer": "ipython3",
   "version": "3.10.2"
  },
  "toc": {
   "base_numbering": 1,
   "nav_menu": {},
   "number_sections": true,
   "sideBar": true,
   "skip_h1_title": false,
   "title_cell": "Table of Contents",
   "title_sidebar": "Contents",
   "toc_cell": false,
   "toc_position": {},
   "toc_section_display": true,
   "toc_window_display": false
  },
  "varInspector": {
   "cols": {
    "lenName": 16,
    "lenType": 16,
    "lenVar": 40
   },
   "kernels_config": {
    "python": {
     "delete_cmd_postfix": "",
     "delete_cmd_prefix": "del ",
     "library": "var_list.py",
     "varRefreshCmd": "print(var_dic_list())"
    },
    "r": {
     "delete_cmd_postfix": ") ",
     "delete_cmd_prefix": "rm(",
     "library": "var_list.r",
     "varRefreshCmd": "cat(var_dic_list()) "
    }
   },
   "types_to_exclude": [
    "module",
    "function",
    "builtin_function_or_method",
    "instance",
    "_Feature"
   ],
   "window_display": false
  }
 },
 "nbformat": 4,
 "nbformat_minor": 5
}
