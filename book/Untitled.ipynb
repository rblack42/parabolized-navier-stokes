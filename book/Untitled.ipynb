{
 "cells": [
  {
   "cell_type": "markdown",
   "id": "a4f38259",
   "metadata": {},
   "source": [
    "# Ogive-Cylinder Grid"
   ]
  },
  {
   "cell_type": "code",
   "execution_count": 2,
   "id": "dd96d3e1",
   "metadata": {},
   "outputs": [],
   "source": [
    "import sympy\n",
    "\n",
    "r, phi, a, h = sympy.symbols('r phi a h')"
   ]
  },
  {
   "cell_type": "code",
   "execution_count": 3,
   "id": "a09f26e4",
   "metadata": {},
   "outputs": [],
   "source": [
    "eq1 = r * sympy.sin(phi) - a\n",
    "eq2 = r * sympy.cos(phi) - r + h"
   ]
  },
  {
   "cell_type": "code",
   "execution_count": 11,
   "id": "4741e397",
   "metadata": {},
   "outputs": [
    {
     "data": {
      "text/plain": [
       "[(r*sqrt(h*(-h + 2*r)/r**2), acos((-h + r)/r)),\n",
       " (-r*sqrt(-h*(h - 2*r)/r**2), -acos(-(h - r)/r) + 2*pi)]"
      ]
     },
     "execution_count": 11,
     "metadata": {},
     "output_type": "execute_result"
    }
   ],
   "source": [
    "sympy.solve([eq1,eq2],[a,phi])"
   ]
  },
  {
   "cell_type": "code",
   "execution_count": 5,
   "id": "07b2cb9a",
   "metadata": {},
   "outputs": [],
   "source": [
    "%reload_ext tikzmagic"
   ]
  },
  {
   "cell_type": "code",
   "execution_count": 79,
   "id": "f56d8065",
   "metadata": {},
   "outputs": [
    {
     "data": {
      "image/png": "[encoded data removed]"
     },
     "metadata": {},
     "output_type": "display_data"
    }
   ],
   "source": [
    "%%tikz -l calc -sc=2\n",
    "\\pgfmathsetmacro{\\rad}{8}\n",
    "\\pgfmathsetmacro{\\h}{0.5}\n",
    "\\pgfmathsetmacro{\\rphi}{acos((\\rad-\\h)/\\rad)}\n",
    "\\pgfmathsetmacro{\\a}{\\rad*sin(\\rphi)}\n",
    "\\pgfmathsetmacro{\\alphau}{atan(3*\\h/\\a)}\n",
    "\\pgfmathsetmacro{\\alphal}{atan(2*\\h/\\a)}\n",
    "\n",
    "\\draw (0,\\h) arc (90:90 + \\rphi:\\rad);\n",
    "\\draw (0,-\\h) arc(270:270 - \\rphi:\\rad);\n",
    "\\draw (-\\a,0) -- (5,0);\n",
    "\\draw (0,\\h) -- (5,\\h);\n",
    "\\draw (0,-\\h) -- (5,-\\h);\n",
    "\\draw (-\\a,0) -- ++(\\alphau:5);\n",
    "\\draw (-\\a,0) -- ++(-\\alphal:5);\n",
    "\\draw (0,3*\\h) -- (0,-2*\\h);\n",
    "\n",
    "\\draw (0,-2.25*\\h) -- (0,-9.5*\\h);\n",
    "\\draw (0,-6.5*\\h) circle (2.5*\\h);\n",
    "\\draw (0,-7*\\h) circle (\\h);\n",
    "\n",
    "\\draw (-4*\\h,-7*\\h) -- (4*\\h, -7*\\h);\n",
    "\\draw (-4*\\h,-6.5*\\h) -- (4*\\h, -6.5*\\h);"
   ]
  },
  {
   "cell_type": "code",
   "execution_count": null,
   "id": "e35ae7f1",
   "metadata": {},
   "outputs": [],
   "source": []
  },
  {
   "cell_type": "code",
   "execution_count": null,
   "id": "17e60385",
   "metadata": {},
   "outputs": [],
   "source": []
  },
  {
   "cell_type": "code",
   "execution_count": null,
   "id": "d51edf58",
   "metadata": {},
   "outputs": [],
   "source": []
  },
  {
   "cell_type": "code",
   "execution_count": null,
   "id": "b9b21e9e",
   "metadata": {},
   "outputs": [],
   "source": []
  }
 ],
 "metadata": {
  "kernelspec": {
   "display_name": "Python 3 (ipykernel)",
   "language": "python",
   "name": "python3"
  },
  "language_info": {
   "codemirror_mode": {
    "name": "ipython",
    "version": 3
   },
   "file_extension": ".py",
   "mimetype": "text/x-python",
   "name": "python",
   "nbconvert_exporter": "python",
   "pygments_lexer": "ipython3",
   "version": "3.10.2"
  },
  "toc": {
   "base_numbering": 1,
   "nav_menu": {},
   "number_sections": true,
   "sideBar": true,
   "skip_h1_title": false,
   "title_cell": "Table of Contents",
   "title_sidebar": "Contents",
   "toc_cell": false,
   "toc_position": {},
   "toc_section_display": true,
   "toc_window_display": false
  },
  "varInspector": {
   "cols": {
    "lenName": 16,
    "lenType": 16,
    "lenVar": 40
   },
   "kernels_config": {
    "python": {
     "delete_cmd_postfix": "",
     "delete_cmd_prefix": "del ",
     "library": "var_list.py",
     "varRefreshCmd": "print(var_dic_list())"
    },
    "r": {
     "delete_cmd_postfix": ") ",
     "delete_cmd_prefix": "rm(",
     "library": "var_list.r",
     "varRefreshCmd": "cat(var_dic_list()) "
    }
   },
   "types_to_exclude": [
    "module",
    "function",
    "builtin_function_or_method",
    "instance",
    "_Feature"
   ],
   "window_display": false
  }
 },
 "nbformat": 4,
 "nbformat_minor": 5
}
