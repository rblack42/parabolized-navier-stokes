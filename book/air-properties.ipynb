{
 "cells": [
  {
   "cell_type": "markdown",
   "id": "26592fa7",
   "metadata": {},
   "source": [
    "# Air Properties"
   ]
  },
  {
   "cell_type": "markdown",
   "id": "5fbc9c15",
   "metadata": {},
   "source": [
    "Aerodynamics is the study of objects moving through a fluid we call air. In our normal lives, we hardly ever think much about air, except when the winds are blowing hard enough to cause problems. In aviation, air is the medium through which we are able to fly, so it is important to understand how that air works. In this section we will look at some of the basic properties of air, since we will be working with those properties in our analyses."
   ]
  },
  {
   "cell_type": "markdown",
   "id": "16d5b688",
   "metadata": {},
   "source": [
    "If you pay attention to weather forecasts, you know that the basic properties vary wildly depending on where you live. For that reason, researchers have developed a standard model for our atmosphere that researchers use in their work. The model we will use is the *1976 U.S. Standard Atmosphere* {cite}`stdatm`. The Python **fluids** package implements this model. We will use that together with **pint** to add unints to the numbers."
   ]
  },
  {
   "cell_type": "code",
   "execution_count": 79,
   "id": "73cd6c4f",
   "metadata": {},
   "outputs": [],
   "source": [
    "from pint import _DEFAULT_REGISTRY as u"
   ]
  },
  {
   "cell_type": "code",
   "execution_count": 80,
   "id": "346a3d46",
   "metadata": {},
   "outputs": [],
   "source": [
    "atm = fluids.units.ATMOSPHERE_1976(Z=0*u.m)"
   ]
  },
  {
   "cell_type": "markdown",
   "id": "bcc119c2",
   "metadata": {},
   "source": [
    "The parameter provided specifies the height above sea level we want to use. In this example, we will be working at sea level."
   ]
  },
  {
   "cell_type": "markdown",
   "id": "b5f88d78",
   "metadata": {},
   "source": [
    "### Basic Properties\n",
    "\n",
    "Here are the properties we can retrieve from this *Standard Atmosphere* model:"
   ]
  },
  {
   "cell_type": "code",
   "execution_count": 81,
   "id": "a71fa69b",
   "metadata": {},
   "outputs": [
    {
     "name": "stdout",
     "output_type": "stream",
     "text": [
      "T_inf : 288.15 kelvin\n",
      "P_inf : 101325.0 pascal\n",
      "rho_inf : 1.2249991558877125 kilogram / meter ** 3\n",
      "k_inf : 0.02532588426426395 watt / kelvin / meter\n",
      "Gravity : 9.80665 meter / second ** 2\n",
      "mu_inf : 1.789380278077583e-05 pascal * second\n",
      "a_inf : 340.2941077869353 meter / second\n",
      "nu_inf : 1.4607196008889362e-05 meter ** 3 * pascal * second / kilogram\n"
     ]
    }
   ],
   "source": [
    "air_properties = { \n",
    "    \"T_inf\": atm.T,\n",
    "    \"P_inf\": atm.P,\n",
    "    \"rho_inf\": atm.rho,\n",
    "    \"k_inf\": atm.k,\n",
    "    \"Gravity\": atm.g,\n",
    "    \"mu_inf\": atm.mu,\n",
    "    \"a_inf\": atm.v_sonic,\n",
    "    \"nu_inf\": mu_inf/rho_inf\n",
    "}\n",
    "\n",
    "for key in air_properties:\n",
    "    print(key,\":\",air_properties[key])"
   ]
  },
  {
   "cell_type": "code",
   "execution_count": null,
   "id": "dd351e83",
   "metadata": {},
   "outputs": [],
   "source": [
    "### Gas Constant"
   ]
  },
  {
   "cell_type": "markdown",
   "id": "2a53a46f",
   "metadata": {},
   "source": [
    "In the standard model, air is a gas that obeys the *Perfect Gas Law*:\n",
    "\n",
    "\\begin{equation}\n",
    "P = \\rho R_{specific} T\n",
    "\\end{equation}\n",
    "\n",
    "Here, $R_{specific}$ is the gas constant for air. We will calculate this number using the data values from the standard atmosphere:"
   ]
  },
  {
   "cell_type": "code",
   "execution_count": 82,
   "id": "c6ddf2cf",
   "metadata": {},
   "outputs": [
    {
     "data": {
      "text/html": [
       "1716.5630846421818 foot force_pound/(degree_Rankine slug)"
      ],
      "text/latex": [
       "$1716.5630846421818\\ \\frac{\\mathrm{foot} \\cdot \\mathrm{force\\_pound}}{\\left(\\mathrm{degree\\_Rankine} \\cdot \\mathrm{slug}\\right)}$"
      ],
      "text/plain": [
       "1716.5630846421818 <Unit('foot * force_pound / degree_Rankine / slug')>"
      ]
     },
     "execution_count": 82,
     "metadata": {},
     "output_type": "execute_result"
    }
   ],
   "source": [
    "P_inf = air_properties['P_inf']\n",
    "rho_inf = air_properties['rho_inf']\n",
    "T_inf = air_properties['T_inf']\n",
    "\n",
    "R_s = P_inf / (rho_inf * T_inf)\n",
    "R_s.to('ft * lbf/(slug degR)')"
   ]
  },
  {
   "cell_type": "code",
   "execution_count": 83,
   "id": "26609a6a",
   "metadata": {},
   "outputs": [
    {
     "data": {
      "text/html": [
       "287.05307204706463 meter<sup>2</sup>/(kelvin second<sup>2</sup>)"
      ],
      "text/latex": [
       "$287.05307204706463\\ \\frac{\\mathrm{meter}^{2}}{\\left(\\mathrm{kelvin} \\cdot \\mathrm{second}^{2}\\right)}$"
      ],
      "text/plain": [
       "287.05307204706463 <Unit('meter ** 2 / kelvin / second ** 2')>"
      ]
     },
     "execution_count": 83,
     "metadata": {},
     "output_type": "execute_result"
    }
   ],
   "source": [
    "R_s.to_base_units()"
   ]
  },
  {
   "cell_type": "markdown",
   "id": "6b6cbf56",
   "metadata": {},
   "source": [
    "As a check, the *Universal Gas Constant is defined as:\n",
    "\n",
    "\\begin{equation}\n",
    "R = R_s M\n",
    "\\end{equation}\n",
    "\n",
    "Where $M$ is the molar mass of air:"
   ]
  },
  {
   "cell_type": "code",
   "execution_count": 87,
   "id": "2c4a921f",
   "metadata": {},
   "outputs": [
    {
     "data": {
      "text/html": [
       "8.314348705307204 kilogram meter<sup>2</sup>/(kelvin mole second<sup>2</sup>)"
      ],
      "text/latex": [
       "$8.314348705307204\\ \\frac{\\mathrm{kilogram} \\cdot \\mathrm{meter}^{2}}{\\left(\\mathrm{kelvin} \\cdot \\mathrm{mole} \\cdot \\mathrm{second}^{2}\\right)}$"
      ],
      "text/plain": [
       "8.314348705307204 <Unit('kilogram * meter ** 2 / kelvin / mole / second ** 2')>"
      ]
     },
     "execution_count": 87,
     "metadata": {},
     "output_type": "execute_result"
    }
   ],
   "source": [
    "M = 28.9645 * u.grams/u.mole\n",
    "\n",
    "R = R_s*M\n",
    "R.to_base_units()"
   ]
  },
  {
   "cell_type": "markdown",
   "id": "eb7fcf7f",
   "metadata": {},
   "source": [
    "This is not an exact match with values found on-line, but it is close."
   ]
  },
  {
   "cell_type": "markdown",
   "id": "3c3891d3",
   "metadata": {},
   "source": [
    "### Specific Heat Constants"
   ]
  },
  {
   "cell_type": "markdown",
   "id": "7eaf9788",
   "metadata": {},
   "source": [
    "The *specific heat capacity* for constant volume $c_v$ is a measure of the amount of heat that must be added to one unit of mass to raise the temperature one degree. A related term, the *specific heat capacity for constant pressure* $c_p$.\n",
    "\n",
    "For an ideal gas, these terms are related as follows:\n",
    "\n",
    "\\begin{equation}\n",
    "c_p - c_v = R\n",
    "\\end{equation}\n",
    "\n",
    "Where $R$ is the ideal gas constant.\n",
    "\n",
    "Another common term is the *heat capacity ratio* $\\gamma$ defined as\n",
    "\n",
    "\\begin{equation}\n",
    "\\gamma = \\frac{c_p}{c_v} \\approx 1.4\n",
    "\\end{equation}"
   ]
  },
  {
   "cell_type": "code",
   "execution_count": 40,
   "id": "228c8bea",
   "metadata": {},
   "outputs": [],
   "source": [
    "c_p = 1.005 * u.kJ / (u.kg*u.degK)"
   ]
  },
  {
   "cell_type": "code",
   "execution_count": 41,
   "id": "28e146bf",
   "metadata": {},
   "outputs": [
    {
     "data": {
      "text/html": [
       "1004.9999999999999 meter<sup>2</sup>/(kelvin second<sup>2</sup>)"
      ],
      "text/latex": [
       "$1004.9999999999999\\ \\frac{\\mathrm{meter}^{2}}{\\left(\\mathrm{kelvin} \\cdot \\mathrm{second}^{2}\\right)}$"
      ],
      "text/plain": [
       "1004.9999999999999 <Unit('meter ** 2 / kelvin / second ** 2')>"
      ]
     },
     "execution_count": 41,
     "metadata": {},
     "output_type": "execute_result"
    }
   ],
   "source": [
    "c_p.to_base_units()"
   ]
  },
  {
   "cell_type": "code",
   "execution_count": 42,
   "id": "08d7100a",
   "metadata": {},
   "outputs": [
    {
     "data": {
      "text/html": [
       "6009.849982662929 foot<sup>2</sup>/(degree_Rankine second<sup>2</sup>)"
      ],
      "text/latex": [
       "$6009.849982662929\\ \\frac{\\mathrm{foot}^{2}}{\\left(\\mathrm{degree\\_Rankine} \\cdot \\mathrm{second}^{2}\\right)}$"
      ],
      "text/plain": [
       "6009.849982662929 <Unit('foot ** 2 / degree_Rankine / second ** 2')>"
      ]
     },
     "execution_count": 42,
     "metadata": {},
     "output_type": "execute_result"
    }
   ],
   "source": [
    "c_p.to('ft**2/(sec**2 * degR)')"
   ]
  },
  {
   "cell_type": "code",
   "execution_count": 43,
   "id": "31a09183",
   "metadata": {},
   "outputs": [
    {
     "data": {
      "text/html": [
       "718.0 meter<sup>2</sup>/(kelvin second<sup>2</sup>)"
      ],
      "text/latex": [
       "$718.0\\ \\frac{\\mathrm{meter}^{2}}{\\left(\\mathrm{kelvin} \\cdot \\mathrm{second}^{2}\\right)}$"
      ],
      "text/plain": [
       "718.0 <Unit('meter ** 2 / kelvin / second ** 2')>"
      ]
     },
     "execution_count": 43,
     "metadata": {},
     "output_type": "execute_result"
    }
   ],
   "source": [
    "c_v = 0.718 * u.kJ / (u.kg * u.degK)\n",
    "c_v.to_base_units()"
   ]
  },
  {
   "cell_type": "code",
   "execution_count": 44,
   "id": "69340201",
   "metadata": {},
   "outputs": [
    {
     "data": {
      "text/html": [
       "4293.604266220878 foot<sup>2</sup>/(degree_Rankine second<sup>2</sup>)"
      ],
      "text/latex": [
       "$4293.604266220878\\ \\frac{\\mathrm{foot}^{2}}{\\left(\\mathrm{degree\\_Rankine} \\cdot \\mathrm{second}^{2}\\right)}$"
      ],
      "text/plain": [
       "4293.604266220878 <Unit('foot ** 2 / degree_Rankine / second ** 2')>"
      ]
     },
     "execution_count": 44,
     "metadata": {},
     "output_type": "execute_result"
    }
   ],
   "source": [
    "c_v.to('ft**2/(sec**2 * degR)')"
   ]
  },
  {
   "cell_type": "code",
   "execution_count": 45,
   "id": "80b8eb8d",
   "metadata": {},
   "outputs": [
    {
     "data": {
      "text/html": [
       "1.3997214484679665 dimensionless"
      ],
      "text/latex": [
       "$1.3997214484679665\\ dimensionless$"
      ],
      "text/plain": [
       "1.3997214484679665 <Unit('dimensionless')>"
      ]
     },
     "execution_count": 45,
     "metadata": {},
     "output_type": "execute_result"
    }
   ],
   "source": [
    "gamma = c_p/c_v\n",
    "gamma"
   ]
  },
  {
   "cell_type": "code",
   "execution_count": null,
   "id": "406b04d3",
   "metadata": {},
   "outputs": [],
   "source": [
    "As a check, we can calculate the gas consant using these values as follows:\n"
   ]
  },
  {
   "cell_type": "code",
   "execution_count": 88,
   "id": "2c1d92ee",
   "metadata": {},
   "outputs": [
    {
     "data": {
      "text/html": [
       "286.99999999999994 meter<sup>2</sup>/(kelvin second<sup>2</sup>)"
      ],
      "text/latex": [
       "$286.99999999999994\\ \\frac{\\mathrm{meter}^{2}}{\\left(\\mathrm{kelvin} \\cdot \\mathrm{second}^{2}\\right)}$"
      ],
      "text/plain": [
       "286.99999999999994 <Unit('meter ** 2 / kelvin / second ** 2')>"
      ]
     },
     "execution_count": 88,
     "metadata": {},
     "output_type": "execute_result"
    }
   ],
   "source": [
    "Rcheck = c_p - c_v\n",
    "Rcheck.to_base_units()"
   ]
  },
  {
   "cell_type": "code",
   "execution_count": 27,
   "id": "c463fe46",
   "metadata": {},
   "outputs": [
    {
     "data": {
      "text/html": [
       "1116.4504848652732 foot/second"
      ],
      "text/latex": [
       "$1116.4504848652732\\ \\frac{\\mathrm{foot}}{\\mathrm{second}}$"
      ],
      "text/plain": [
       "1116.4504848652732 <Unit('foot / second')>"
      ]
     },
     "execution_count": 27,
     "metadata": {},
     "output_type": "execute_result"
    }
   ],
   "source": [
    "a = (1.4 * R_s * T_inf)**0.5\n",
    "a.to('ft/sec')"
   ]
  },
  {
   "cell_type": "code",
   "execution_count": null,
   "id": "dec368ea",
   "metadata": {},
   "outputs": [],
   "source": [
    "Again, not an exact match, but close!"
   ]
  },
  {
   "cell_type": "markdown",
   "id": "d5671603",
   "metadata": {},
   "source": [
    "### Prandtl Number\n",
    "\n",
    "\\begin{equation}\n",
    "Pr = \\frac{c_p \\mu}{k}\n",
    "\\end{equation}"
   ]
  },
  {
   "cell_type": "code",
   "execution_count": 74,
   "id": "f44d15d5",
   "metadata": {},
   "outputs": [
    {
     "data": {
      "text/html": [
       "0.7100747838469347 dimensionless"
      ],
      "text/latex": [
       "$0.7100747838469347\\ dimensionless$"
      ],
      "text/plain": [
       "0.7100747838469347 <Unit('dimensionless')>"
      ]
     },
     "execution_count": 74,
     "metadata": {},
     "output_type": "execute_result"
    }
   ],
   "source": [
    "Pr_inf = c_p * mu_inf / k_inf\n",
    "Pr_inf.to_base_units()"
   ]
  },
  {
   "cell_type": "markdown",
   "id": "d5d7cb4d",
   "metadata": {},
   "source": [
    "## Isentropic Flow\n",
    "\n",
    "For isentropic flow, we have several useful equations we can use:\n",
    "\n",
    "### Speed of Sound\n",
    "\n",
    "The standard model provides a speed of sound value. We can verify that value by using this equation:\n",
    "\n",
    "\\begin{equation}\n",
    "a = \\sqrt{\\gamma R T} = \n",
    "\\end{equation}"
   ]
  },
  {
   "cell_type": "code",
   "execution_count": 91,
   "id": "49a621c0",
   "metadata": {},
   "outputs": [
    {
     "data": {
      "text/html": [
       "340.26025272961755 meter/second"
      ],
      "text/latex": [
       "$340.26025272961755\\ \\frac{\\mathrm{meter}}{\\mathrm{second}}$"
      ],
      "text/plain": [
       "340.26025272961755 <Unit('meter / second')>"
      ]
     },
     "execution_count": 91,
     "metadata": {},
     "output_type": "execute_result"
    }
   ],
   "source": [
    "a = (gamma * R_s * T_inf)**0.5\n",
    "a.to_base_units()"
   ]
  },
  {
   "cell_type": "markdown",
   "id": "661bc7fd",
   "metadata": {},
   "source": [
    "\\begin{equation}\n",
    "M = \\frac{v}{a}\n",
    "\\end{equation}\n",
    "\\begin{equation}\n",
    "\\frac{p}{p_t} = (1 + \\frac{\\gamma - 1}{2}M^2)^{\\frac{-\\gamma}{\\gamma - 1}}\n",
    "\\end{equation}\n",
    "\n",
    "\\begin{equation}\n",
    "q = \\frac{1}{2}\\rho v^2\n",
    "\\end{equation}"
   ]
  },
  {
   "cell_type": "markdown",
   "id": "ebb14b62",
   "metadata": {},
   "source": [
    "The original version of the **rrbaxi** test program used data from an AEDC wind tunnel test of an ogive-cylinder. Using th Mac number, let's get a velocity:"
   ]
  },
  {
   "cell_type": "code",
   "execution_count": 121,
   "id": "0852e740",
   "metadata": {},
   "outputs": [
    {
     "data": {
      "text/html": [
       "3907.187941449021 foot/second"
      ],
      "text/latex": [
       "$3907.187941449021\\ \\frac{\\mathrm{foot}}{\\mathrm{second}}$"
      ],
      "text/plain": [
       "3907.187941449021 <Unit('foot / second')>"
      ]
     },
     "execution_count": 121,
     "metadata": {},
     "output_type": "execute_result"
    }
   ],
   "source": [
    "M_inf = 3.5 # test case\n",
    "U_inf = M_inf * a\n",
    "U_inf.to('ft/sec')"
   ]
  },
  {
   "cell_type": "markdown",
   "id": "2efd5fd1",
   "metadata": {},
   "source": [
    "### Reynolds Number\n",
    "\n",
    "\\begin{equation}\n",
    "Re = \\frac{\\rho u L}{\\mu}\n",
    "\\end{equation}"
   ]
  },
  {
   "cell_type": "markdown",
   "id": "0cfd689e",
   "metadata": {},
   "source": [
    "From the properties defined so far, we can calculate the free stream Reynolds Number:"
   ]
  },
  {
   "cell_type": "code",
   "execution_count": 122,
   "id": "1eb62c61",
   "metadata": {},
   "outputs": [
    {
     "data": {
      "text/html": [
       "103541899.65430248 dimensionless"
      ],
      "text/latex": [
       "$103541899.65430248\\ dimensionless$"
      ],
      "text/plain": [
       "103541899.65430248 <Unit('dimensionless')>"
      ]
     },
     "execution_count": 122,
     "metadata": {},
     "output_type": "execute_result"
    }
   ],
   "source": [
    "L = 50 * u.inches\n",
    "Re_inf = rho_inf * U_inf * L / mu_inf\n",
    "Re_inf.to_base_units()"
   ]
  },
  {
   "cell_type": "markdown",
   "id": "b61e3432",
   "metadata": {},
   "source": [
    "### Reference Properties\n",
    "\n",
    "The following wing reference properties are used to non-dimensionalize the governing equations:\n",
    "\n",
    "\n",
    "#### Velocities\n",
    "\n",
    "\\begin{equation}\n",
    "U_{ref} = U_{\\infty}\n",
    "\\end{equation}"
   ]
  },
  {
   "cell_type": "code",
   "execution_count": 96,
   "id": "8e29ab66",
   "metadata": {},
   "outputs": [
    {
     "data": {
      "text/html": [
       "2024.5485037412245 meter/second"
      ],
      "text/latex": [
       "$2024.5485037412245\\ \\frac{\\mathrm{meter}}{\\mathrm{second}}$"
      ],
      "text/plain": [
       "2024.5485037412245 <Unit('meter / second')>"
      ]
     },
     "execution_count": 96,
     "metadata": {},
     "output_type": "execute_result"
    }
   ],
   "source": [
    "U_ref = U_inf\n",
    "U_ref.to_base_units()"
   ]
  },
  {
   "cell_type": "code",
   "execution_count": 116,
   "id": "22e9ba95",
   "metadata": {},
   "outputs": [
    {
     "data": {
      "text/html": [
       "1.0 dimensionless"
      ],
      "text/latex": [
       "$1.0\\ dimensionless$"
      ],
      "text/plain": [
       "1.0 <Unit('dimensionless')>"
      ]
     },
     "execution_count": 116,
     "metadata": {},
     "output_type": "execute_result"
    }
   ],
   "source": [
    "U_sf = (U_inf/U_ref).to_base_units()\n",
    "U_sf"
   ]
  },
  {
   "cell_type": "markdown",
   "id": "a8ac5e85",
   "metadata": {},
   "source": [
    "#### Temperature"
   ]
  },
  {
   "cell_type": "markdown",
   "id": "f3f8c989",
   "metadata": {},
   "source": [
    "\\begin{equation}\n",
    "T_{ref} = U_{ref}^2 / c_p\n",
    "\\end{equation}"
   ]
  },
  {
   "cell_type": "code",
   "execution_count": 98,
   "id": "25cbc52d",
   "metadata": {},
   "outputs": [
    {
     "data": {
      "text/html": [
       "4078.4046208963505 kelvin"
      ],
      "text/latex": [
       "$4078.4046208963505\\ \\mathrm{kelvin}$"
      ],
      "text/plain": [
       "4078.4046208963505 <Unit('kelvin')>"
      ]
     },
     "execution_count": 98,
     "metadata": {},
     "output_type": "execute_result"
    }
   ],
   "source": [
    "T_ref = U_ref**2/c_p\n",
    "T_ref.to_base_units()"
   ]
  },
  {
   "cell_type": "code",
   "execution_count": 117,
   "id": "b3937625",
   "metadata": {},
   "outputs": [
    {
     "data": {
      "text/html": [
       "0.07065262689327535 dimensionless"
      ],
      "text/latex": [
       "$0.07065262689327535\\ dimensionless$"
      ],
      "text/plain": [
       "0.07065262689327535 <Unit('dimensionless')>"
      ]
     },
     "execution_count": 117,
     "metadata": {},
     "output_type": "execute_result"
    }
   ],
   "source": [
    "T_sf = (T_inf/T_ref).to_base_units()\n",
    "T_sf"
   ]
  },
  {
   "cell_type": "markdown",
   "id": "dce2d07b",
   "metadata": {},
   "source": [
    "#### Density"
   ]
  },
  {
   "cell_type": "markdown",
   "id": "e2d1bd86",
   "metadata": {},
   "source": [
    "\\begin{equation}\n",
    "\\rho_{ref} = \\rho_\\infty\n",
    "\\end{equation}"
   ]
  },
  {
   "cell_type": "code",
   "execution_count": 99,
   "id": "2154392a",
   "metadata": {},
   "outputs": [
    {
     "data": {
      "text/html": [
       "1.2249991558877125 kilogram/meter<sup>3</sup>"
      ],
      "text/latex": [
       "$1.2249991558877125\\ \\frac{\\mathrm{kilogram}}{\\mathrm{meter}^{3}}$"
      ],
      "text/plain": [
       "1.2249991558877125 <Unit('kilogram / meter ** 3')>"
      ]
     },
     "execution_count": 99,
     "metadata": {},
     "output_type": "execute_result"
    }
   ],
   "source": [
    "rho_ref = rho_inf\n",
    "rho_ref.to_base_units()"
   ]
  },
  {
   "cell_type": "code",
   "execution_count": 118,
   "id": "d940f69d",
   "metadata": {},
   "outputs": [
    {
     "data": {
      "text/html": [
       "1.0 dimensionless"
      ],
      "text/latex": [
       "$1.0\\ dimensionless$"
      ],
      "text/plain": [
       "1.0 <Unit('dimensionless')>"
      ]
     },
     "execution_count": 118,
     "metadata": {},
     "output_type": "execute_result"
    }
   ],
   "source": [
    "rho_sf = (rho_inf/rho_ref).to_base_units()\n",
    "rho_sf"
   ]
  },
  {
   "cell_type": "code",
   "execution_count": null,
   "id": "d4d9186b",
   "metadata": {},
   "outputs": [],
   "source": [
    "#### Dynamic Viscosity"
   ]
  },
  {
   "cell_type": "markdown",
   "id": "61226d44",
   "metadata": {},
   "source": [
    "\\begin{equation}\n",
    "\\mu_{ref} = \\mu_{inf} * T_{ref}\n",
    "\\end{equation}"
   ]
  },
  {
   "cell_type": "code",
   "execution_count": 120,
   "id": "f25130ef",
   "metadata": {},
   "outputs": [
    {
     "data": {
      "text/html": [
       "1.789380278077583×10<sup>-5</sup> kilogram/(meter second)"
      ],
      "text/latex": [
       "$1.789380278077583\\times 10^{-5}\\ \\frac{\\mathrm{kilogram}}{\\left(\\mathrm{meter} \\cdot \\mathrm{second}\\right)}$"
      ],
      "text/plain": [
       "1.789380278077583e-05 <Unit('kilogram / meter / second')>"
      ]
     },
     "execution_count": 120,
     "metadata": {},
     "output_type": "execute_result"
    }
   ],
   "source": [
    "mu_inf.to_base_units()"
   ]
  },
  {
   "cell_type": "code",
   "execution_count": 114,
   "id": "29a49e2f",
   "metadata": {},
   "outputs": [
    {
     "data": {
      "text/html": [
       "0.7100747838469347 dimensionless"
      ],
      "text/latex": [
       "$0.7100747838469347\\ dimensionless$"
      ],
      "text/plain": [
       "0.7100747838469347 <Unit('dimensionless')>"
      ]
     },
     "execution_count": 114,
     "metadata": {},
     "output_type": "execute_result"
    }
   ],
   "source": [
    "mu_ref = c_p * mu_inf / k_inf\n",
    "mu_ref.to_base_units()"
   ]
  },
  {
   "cell_type": "code",
   "execution_count": 119,
   "id": "e95f9f14",
   "metadata": {},
   "outputs": [
    {
     "data": {
      "text/html": [
       "2.5199884840063633×10<sup>-5</sup> kilogram/(meter second)"
      ],
      "text/latex": [
       "$2.5199884840063633\\times 10^{-5}\\ \\frac{\\mathrm{kilogram}}{\\left(\\mathrm{meter} \\cdot \\mathrm{second}\\right)}$"
      ],
      "text/plain": [
       "2.5199884840063633e-05 <Unit('kilogram / meter / second')>"
      ]
     },
     "execution_count": 119,
     "metadata": {},
     "output_type": "execute_result"
    }
   ],
   "source": [
    "mu_sf = (mu_inf/mu_ref).to_base_units()\n",
    "mu_sf"
   ]
  },
  {
   "cell_type": "markdown",
   "id": "2b9476fd",
   "metadata": {},
   "source": [
    "\\begin{equation}\n",
    "k_{ref} = k_{\\infty} * T_{ref}\n",
    "\\end{equation}"
   ]
  },
  {
   "cell_type": "code",
   "execution_count": 110,
   "id": "f8f40512",
   "metadata": {},
   "outputs": [
    {
     "data": {
      "text/html": [
       "1004.9999999999999 meter<sup>2</sup>/(kelvin second<sup>2</sup>)"
      ],
      "text/latex": [
       "$1004.9999999999999\\ \\frac{\\mathrm{meter}^{2}}{\\left(\\mathrm{kelvin} \\cdot \\mathrm{second}^{2}\\right)}$"
      ],
      "text/plain": [
       "1004.9999999999999 <Unit('meter ** 2 / kelvin / second ** 2')>"
      ]
     },
     "execution_count": 110,
     "metadata": {},
     "output_type": "execute_result"
    }
   ],
   "source": [
    "k_ref = c_p * mu_ref/Pr_inf\n",
    "k_ref.to_base_units()"
   ]
  },
  {
   "cell_type": "code",
   "execution_count": 111,
   "id": "2927e1cf",
   "metadata": {},
   "outputs": [
    {
     "data": {
      "text/html": [
       "2.5199884840063637×10<sup>-5</sup> kilogram/(meter second)"
      ],
      "text/latex": [
       "$2.5199884840063637\\times 10^{-5}\\ \\frac{\\mathrm{kilogram}}{\\left(\\mathrm{meter} \\cdot \\mathrm{second}\\right)}$"
      ],
      "text/plain": [
       "2.5199884840063637e-05 <Unit('kilogram / meter / second')>"
      ]
     },
     "execution_count": 111,
     "metadata": {},
     "output_type": "execute_result"
    }
   ],
   "source": [
    "(k_inf/k_ref).to_base_units()"
   ]
  },
  {
   "cell_type": "markdown",
   "id": "da772251",
   "metadata": {},
   "source": [
    "\\begin{equation}\n",
    "H_{ref} = U_{ref}^2\n",
    "\\end{equation}"
   ]
  },
  {
   "cell_type": "code",
   "execution_count": 102,
   "id": "89b18479",
   "metadata": {},
   "outputs": [
    {
     "data": {
      "text/html": [
       "4098796.644000832 meter<sup>2</sup>/second<sup>2</sup>"
      ],
      "text/latex": [
       "$4098796.644000832\\ \\frac{\\mathrm{meter}^{2}}{\\mathrm{second}^{2}}$"
      ],
      "text/plain": [
       "4098796.644000832 <Unit('meter ** 2 / second ** 2')>"
      ]
     },
     "execution_count": 102,
     "metadata": {},
     "output_type": "execute_result"
    }
   ],
   "source": [
    "H_ref = U_ref**2\n",
    "H_ref.to_base_units()"
   ]
  },
  {
   "cell_type": "markdown",
   "id": "8e0d5d7e",
   "metadata": {},
   "source": [
    "\n",
    "\\begin{equation}\n",
    "Pr = c_p * \\mu_{\\infty} / k_\\infty\n",
    "\\end{equation}"
   ]
  },
  {
   "cell_type": "code",
   "execution_count": 103,
   "id": "26334387",
   "metadata": {},
   "outputs": [
    {
     "data": {
      "text/html": [
       "4435.714710596741 kilogram/(meter second)"
      ],
      "text/latex": [
       "$4435.714710596741\\ \\frac{\\mathrm{kilogram}}{\\left(\\mathrm{meter} \\cdot \\mathrm{second}\\right)}$"
      ],
      "text/plain": [
       "4435.714710596741 <Unit('kilogram / meter / second')>"
      ]
     },
     "execution_count": 103,
     "metadata": {},
     "output_type": "execute_result"
    }
   ],
   "source": [
    "Re_ref = rho_ref * U_ref * L / mu_ref\n",
    "Re_ref.to_base_units()"
   ]
  },
  {
   "cell_type": "code",
   "execution_count": 104,
   "id": "ba01495c",
   "metadata": {},
   "outputs": [
    {
     "data": {
      "text/html": [
       "2980.6626680909258 pound/(foot second)"
      ],
      "text/latex": [
       "$2980.6626680909258\\ \\frac{\\mathrm{pound}}{\\left(\\mathrm{foot} \\cdot \\mathrm{second}\\right)}$"
      ],
      "text/plain": [
       "2980.6626680909258 <Unit('pound / foot / second')>"
      ]
     },
     "execution_count": 104,
     "metadata": {},
     "output_type": "execute_result"
    }
   ],
   "source": [
    "Re_ref.to('lb/(ft*sec)')"
   ]
  },
  {
   "cell_type": "code",
   "execution_count": 47,
   "id": "9b969ce0",
   "metadata": {},
   "outputs": [],
   "source": [
    "Test_Re_ref = 2179168\n",
    "L = 50 * u.inches"
   ]
  },
  {
   "cell_type": "markdown",
   "id": "d74ee1f9",
   "metadata": {},
   "source": [
    "Given M_inf, P_o_inf, T_inf, gamma, c_p, Pr_inf, R_inf\n",
    "\n",
    "p_inf = P_o_inf *( 1 + (gamma-1)/2 M_inf^2)^(-gamma/(gamma-1))\n",
    "\n",
    "rho_inf = P_inf/(R_inf I *T_inf)\n",
    "\n",
    "a_inf = sqrt(gamma * R_inf * T_inf)\n",
    "\n",
    "U_inf = M_inf ^2/c_p_inf\n",
    "\n",
    "mu_ref = 2.270 * T_ref^3/2 / (T_ref + 198.6) x 10-8\n",
    "\n",
    "k_ref = c_p_inf * mu_ref / Pr_inf\n",
    "\n",
    "H_inf = (1 + 2/(gamma-1) M_inf^2))/2\n",
    "\n",
    "p_inf = 1/(gamma*M_inf^2)\n",
    "\n",
    "P_o_inf = p_inf + 1/2 rho U_inf **2/g"
   ]
  },
  {
   "cell_type": "code",
   "execution_count": 65,
   "id": "4cb32165",
   "metadata": {},
   "outputs": [
    {
     "data": {
      "text/html": [
       "152195941.21202007 pascal"
      ],
      "text/latex": [
       "$152195941.21202007\\ \\mathrm{pascal}$"
      ],
      "text/plain": [
       "152195941.21202007 <Unit('pascal')>"
      ]
     },
     "execution_count": 65,
     "metadata": {},
     "output_type": "execute_result"
    }
   ],
   "source": [
    "P_o_inf = P_inf / (1 + (gamma-1)/2 * Mach**2)**(-gamma/(gamma-1))\n",
    "P_o_inf"
   ]
  },
  {
   "cell_type": "code",
   "execution_count": 67,
   "id": "3c3e95da",
   "metadata": {},
   "outputs": [
    {
     "data": {
      "text/html": [
       "2511010.81875 pascal"
      ],
      "text/latex": [
       "$2511010.81875\\ \\mathrm{pascal}$"
      ],
      "text/plain": [
       "2511010.81875 <Unit('pascal')>"
      ]
     },
     "execution_count": 67,
     "metadata": {},
     "output_type": "execute_result"
    }
   ],
   "source": [
    "q = 1/2 * rho_inf * U_inf ** 2\n",
    "q"
   ]
  },
  {
   "cell_type": "code",
   "execution_count": 69,
   "id": "f40520b0",
   "metadata": {},
   "outputs": [],
   "source": [
    "p_o_inf = P_inf + q"
   ]
  },
  {
   "cell_type": "code",
   "execution_count": 70,
   "id": "a1081288",
   "metadata": {},
   "outputs": [
    {
     "data": {
      "text/html": [
       "2612335.81875 pascal"
      ],
      "text/latex": [
       "$2612335.81875\\ \\mathrm{pascal}$"
      ],
      "text/plain": [
       "2612335.81875 <Unit('pascal')>"
      ]
     },
     "execution_count": 70,
     "metadata": {},
     "output_type": "execute_result"
    }
   ],
   "source": [
    "p_o_inf"
   ]
  },
  {
   "cell_type": "code",
   "execution_count": 71,
   "id": "bc66b4c5",
   "metadata": {},
   "outputs": [
    {
     "data": {
      "text/html": [
       "1739.172048393225 pascal"
      ],
      "text/latex": [
       "$1739.172048393225\\ \\mathrm{pascal}$"
      ],
      "text/plain": [
       "1739.172048393225 <Unit('pascal')>"
      ]
     },
     "execution_count": 71,
     "metadata": {},
     "output_type": "execute_result"
    }
   ],
   "source": [
    "M_inf = Mach\n",
    "p_o_inf *( 1 + (gamma-1)/2*M_inf**2)**(-gamma/(gamma-1))"
   ]
  },
  {
   "cell_type": "code",
   "execution_count": null,
   "id": "4a74e63f",
   "metadata": {},
   "outputs": [],
   "source": []
  }
 ],
 "metadata": {
  "kernelspec": {
   "display_name": "Python 3 (ipykernel)",
   "language": "python",
   "name": "python3"
  },
  "language_info": {
   "codemirror_mode": {
    "name": "ipython",
    "version": 3
   },
   "file_extension": ".py",
   "mimetype": "text/x-python",
   "name": "python",
   "nbconvert_exporter": "python",
   "pygments_lexer": "ipython3",
   "version": "3.10.2"
  },
  "toc": {
   "base_numbering": 1,
   "nav_menu": {},
   "number_sections": true,
   "sideBar": true,
   "skip_h1_title": false,
   "title_cell": "Table of Contents",
   "title_sidebar": "Contents",
   "toc_cell": false,
   "toc_position": {},
   "toc_section_display": true,
   "toc_window_display": false
  },
  "varInspector": {
   "cols": {
    "lenName": 16,
    "lenType": 16,
    "lenVar": 40
   },
   "kernels_config": {
    "python": {
     "delete_cmd_postfix": "",
     "delete_cmd_prefix": "del ",
     "library": "var_list.py",
     "varRefreshCmd": "print(var_dic_list())"
    },
    "r": {
     "delete_cmd_postfix": ") ",
     "delete_cmd_prefix": "rm(",
     "library": "var_list.r",
     "varRefreshCmd": "cat(var_dic_list()) "
    }
   },
   "types_to_exclude": [
    "module",
    "function",
    "builtin_function_or_method",
    "instance",
    "_Feature"
   ],
   "window_display": false
  }
 },
 "nbformat": 4,
 "nbformat_minor": 5
}
