{
 "cells": [
  {
   "cell_type": "markdown",
   "id": "fa986aa9",
   "metadata": {},
   "source": [
    "# Axisymmetric Navier Stokes"
   ]
  },
  {
   "cell_type": "markdown",
   "id": "60878067",
   "metadata": {},
   "source": [
    "\\begin{equation} \n",
    "\\frac{\\partial{U}}{\\partial{t}} + \\frac{\\partial{A}}{\\partial{x}} + \\frac{\\partial{B}}{\\partial{r}} + \\frac{1}{r}C = 0\n",
    "\\end{equation}"
   ]
  },
  {
   "cell_type": "markdown",
   "id": "476a8d98",
   "metadata": {},
   "source": [
    "\\begin{equation}\n",
    "U = \\begin{bmatrix}\n",
    "    \\rho \\\\\n",
    "    \\rho u \\\\\n",
    "    \\rho v \\\\\n",
    "    \\rho E\n",
    "    \\end{bmatrix}\n",
    "\\end{equation}"
   ]
  },
  {
   "cell_type": "markdown",
   "id": "5bb0de09",
   "metadata": {},
   "source": [
    "\\begin{equation}\n",
    "A = \\begin{bmatrix}\n",
    "    \\rho  u\\\\\n",
    "    \\rho u^2 + p - \\tau_{xx} \\\\\n",
    "    \\rho u v - \\tau_{xr} \\\\\n",
    "    \\rho u H + q_x - u \\tau_{xx} - v \\tau_{xr}\n",
    "    \\end{bmatrix}\n",
    "\\end{equation}"
   ]
  },
  {
   "cell_type": "markdown",
   "id": "24bc45da",
   "metadata": {},
   "source": [
    "\\begin{equation}\n",
    "B = \\begin{bmatrix}\n",
    "    \\rho v \\\\\n",
    "    \\rho u v - \\tau_{xr}\\\\\n",
    "    \\rho v^2 + p - \\tau_{rr} \\\\\n",
    "    \\rho v H + q_r -u \\tau_{xr} - u \\tau_{rr} \n",
    "    \\end{bmatrix}\n",
    "\\end{equation}"
   ]
  },
  {
   "cell_type": "markdown",
   "id": "cb8db7a4",
   "metadata": {},
   "source": [
    "\\begin{equation}\n",
    "C = \\begin{bmatrix}\n",
    "    \\rho v \\\\\n",
    "    \\rho u v - \\tau_{xr} \\\\\n",
    "    \\rho v^2 - \\tau_{rr}  \\\\\n",
    "    \\rho v H + q_r - u \\tau_{xr} -v \\tau_{rr}\n",
    "    \\end{bmatrix}\n",
    "\\end{equation}"
   ]
  },
  {
   "cell_type": "markdown",
   "id": "5f4ac9b6",
   "metadata": {},
   "source": [
    "\\begin{equation}\n",
    "\\tau_{xx} = \\frac{2 \\mu}{3 Re}\\Biggl[2 \\frac{\\partial{u}}{\\partial{r}} + \\frac{\\partial{v}}{\\partial{r}} - \\frac{v}{r}\\Biggr]\n",
    "\\end{equation}"
   ]
  },
  {
   "cell_type": "markdown",
   "id": "66f394b9",
   "metadata": {},
   "source": [
    "\\begin{equation}\n",
    "\\tau_{xr} = \\frac{\\mu}{Re}\\Biggl[\\frac{\\partial{u}}{\\partial{r}} + \\frac{\\partial{v}}{\\partial{x}}\\Biggr]\n",
    "\\end{equation}"
   ]
  },
  {
   "cell_type": "markdown",
   "id": "00ef9cb3",
   "metadata": {},
   "source": [
    "\\begin{equation}\n",
    "\\tau_{rr} = \\frac{2\\mu}{3 Re}\\Biggl[- \\frac{\\partial{u}}{\\partial{x}} + 2 \\frac{\\partial{v}}{\\partial{r}} - \\frac{v}{r}\\Biggr]\n",
    "\\end{equation}"
   ]
  },
  {
   "cell_type": "markdown",
   "id": "55070e69",
   "metadata": {},
   "source": []
  }
 ],
 "metadata": {
  "kernelspec": {
   "display_name": "Python 3 (ipykernel)",
   "language": "python",
   "name": "python3"
  },
  "language_info": {
   "codemirror_mode": {
    "name": "ipython",
    "version": 3
   },
   "file_extension": ".py",
   "mimetype": "text/x-python",
   "name": "python",
   "nbconvert_exporter": "python",
   "pygments_lexer": "ipython3",
   "version": "3.10.2"
  },
  "toc": {
   "base_numbering": 1,
   "nav_menu": {},
   "number_sections": true,
   "sideBar": true,
   "skip_h1_title": false,
   "title_cell": "Table of Contents",
   "title_sidebar": "Contents",
   "toc_cell": false,
   "toc_position": {},
   "toc_section_display": true,
   "toc_window_display": false
  },
  "varInspector": {
   "cols": {
    "lenName": 16,
    "lenType": 16,
    "lenVar": 40
   },
   "kernels_config": {
    "python": {
     "delete_cmd_postfix": "",
     "delete_cmd_prefix": "del ",
     "library": "var_list.py",
     "varRefreshCmd": "print(var_dic_list())"
    },
    "r": {
     "delete_cmd_postfix": ") ",
     "delete_cmd_prefix": "rm(",
     "library": "var_list.r",
     "varRefreshCmd": "cat(var_dic_list()) "
    }
   },
   "types_to_exclude": [
    "module",
    "function",
    "builtin_function_or_method",
    "instance",
    "_Feature"
   ],
   "window_display": false
  }
 },
 "nbformat": 4,
 "nbformat_minor": 5
}
