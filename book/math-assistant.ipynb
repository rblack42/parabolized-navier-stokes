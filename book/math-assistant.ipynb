{
 "cells": [
  {
   "cell_type": "markdown",
   "id": "93a4ab69",
   "metadata": {},
   "source": [
    "# Math Assistant"
   ]
  },
  {
   "cell_type": "markdown",
   "id": "dff34b54",
   "metadata": {},
   "source": [
    "Back in 1976, I was working as a research aeronautical engineer at the USAF Aerospace Research Laboratory at Wright-Patterson Air Force Base in Dayton Ohio. Besides learning to fly on the same field the Wright Brothers used in their early testing work on Huffman Prairie (now part of WPAFB), I was working on a computer program that would analyze the flow over a simple vehicle flying at hypersonic speeds. This work was part of the emerging field of Computational Fluid Dynamics. We used the fastest computers available at the time, including first generation Cray-1 supercomputers for this work. \n",
    "\n",
    "Basically, I had to take the Navier-Stokes Equations on fluid motion and transform them into something the computer could handle, then run test cases to check how the program predicted the flow around the vehicle against wind tunnel tests of the same vehicle.\n",
    "\n",
    "## Analysis Phase\n",
    "\n",
    "Working through the derivation of the Navier-Stokes equations as part of developing a numerical scheme for analyzing the flow of air over a vehicle was done by hand back then. It took about 100 pages to get this done thoroughly.\n",
    "\n",
    "What are the odds that you could do this kind of math work with no mistakes? Dropped terms, wrong signs, and more were all common mistakes. One of my respected co-researchers, Joe, told me once that he did his math development three times and used the solution that came out the same twice as the correct one. \n",
    "\n",
    "```warning\n",
    "But, Joe, the third one was the right one!\n",
    "```\n",
    "\n",
    "That was my reply, and we both walked away shaking our heads.\n",
    "\n",
    "After some time doing this work, I had an idea. I actually wrote a program that automated the math work we were doing, so I could verify my final program code. It worked well enough that I was able to check code produced by other reseaechers. The strange thing about my program was that it was written in the language we all knew back then: Fortran! Hardly a good language for writing a symbolic math program. I actually found a book that described how to write a compiler using Fortran, and used many ideas from that book in my math manipulation program.\n",
    "\n",
    "While my program was successful, it was limited to exactly one problem, so that project was short-lived. Shortly after completing that code, I ran into the *Macsyma* project at MIT, and switched to that tool to do the same ind of work. I used the fledgling Arpanet (the granddaddy of the Internet) to access a machine at MIT from my office in Dayton, Ohio. Believe it or not, I used a terminal with an acoustic coupler that we connected to a rotary telephone and passed data back and forth at a staggering 110 bits per second! (Don't complain to me about your slow Internet connection!)"
   ]
  },
  {
   "cell_type": "markdown",
   "id": "4f8294d3",
   "metadata": {},
   "source": [
    "## Fast Forward\n",
    "\n",
    "So here we are some (um) years later, and I am once again working on my early CFD code, this time for fun, and facing the exact same problem. I want to work through the derivation of all the math needed to build by program and recast my original code into modern Fortran. \n",
    "\n",
    "Guess what? I still need to manipulate all that math, and my old program is long gone. \n",
    "\n",
    "There are modern math tools I could use to do this analysis including a now freely available version of *Macsyma*. However, I decided to build a simple Python tool to do the same math manipulations I did way back when! While considering this side project, I ran across a nice book, *Math for Programmers*{cite}`orland2020` that demonstrated how to do symbolic math using Python, so the development that follows was inspired by that reference.\n",
    "\n",
    "The assistant I need does not need to know everything about math, just enough to assist my derivation work. If you need more power, you should look into **sympy**."
   ]
  },
  {
   "cell_type": "code",
   "execution_count": null,
   "id": "040100e9",
   "metadata": {},
   "outputs": [],
   "source": []
  },
  {
   "cell_type": "markdown",
   "id": "3d4461a2",
   "metadata": {},
   "source": [
    "## Atomic Particles\n",
    "\n",
    "Before we start building anything, we need to figure out what the most basic objects will be in our math work. Conventionally, we call these objects *atoms*, meaning they are indivisible. (Obviously this term needs updating, since now physicists break atoms down into more fundamental elementary gadgets.)\n",
    "\n",
    "Obvious atoms are simple numbers. As programmers, we know what they look like: **integers** and **floats** in Python. Numbers never change, meaning they are constants. If we choose to, we can name constants so we do not need to repeat the number, and we have some idea what they number represents. **pi** is an example of a named number. Some numbers, like **pi** have a symbolic representation we see in print: $\\pi$ for example. \n",
    "\n",
    "We will need a way to create these constants, and a way to fetch the numerical number assigned, and the printable representation as well. For this project, the math will be displayed using $\\LaTeX$.\n",
    "\n",
    "Let's get started by creating a Python class to define constants. Since we will be building classes to represent other objects in our math world, we will make this constant class a child of a basic **Symbolic** class where we can place tools common to all math objects:"
   ]
  },
  {
   "cell_type": "code",
   "execution_count": 1,
   "id": "958e5357",
   "metadata": {},
   "outputs": [],
   "source": [
    "import math\n",
    "from IPython.display import Math, display"
   ]
  },
  {
   "cell_type": "code",
   "execution_count": 34,
   "id": "c73d4d6a",
   "metadata": {},
   "outputs": [],
   "source": [
    "class Symbolic(object):\n",
    "    \n",
    "    def show(self):\n",
    "        display(Math(self._latex))\n",
    "    \n",
    "    def print(self):\n",
    "        display(Math(self._latex))       "
   ]
  },
  {
   "cell_type": "markdown",
   "id": "cca55570",
   "metadata": {},
   "source": [
    "The **Constant** class will use the Python **property** decorators to provide a simple way to access attributes:"
   ]
  },
  {
   "cell_type": "code",
   "execution_count": 35,
   "id": "eaa0ed34",
   "metadata": {},
   "outputs": [],
   "source": [
    "class Constant(Symbolic):\n",
    "    \n",
    "    def __init__(self, name):\n",
    "        self._name = name\n",
    "        self._value = None\n",
    "        self._latex = str(self._name)\n",
    "        \n",
    "    @property\n",
    "    def latex(self):\n",
    "        return self._latex\n",
    "    \n",
    "    @latex.setter\n",
    "    def latex(self, lstr):\n",
    "        self._latex = lstr\n",
    "        \n",
    "    @property\n",
    "    def value(self):\n",
    "        return self._value\n",
    "    \n",
    "    @value.setter\n",
    "    def value(self, val):\n",
    "        self._value = val\n",
    "               \n",
    "    def dump(self):\n",
    "        tex = self._latex + '=' + str(self._value)\n",
    "        display(Math(tex))"
   ]
  },
  {
   "cell_type": "markdown",
   "id": "e489296a",
   "metadata": {},
   "source": [
    "we create a new constant by providing a name. Once we have an object, we access the attributes using simple code:"
   ]
  },
  {
   "cell_type": "code",
   "execution_count": 36,
   "id": "8e66674b",
   "metadata": {},
   "outputs": [],
   "source": [
    "pi = Constant('pi')"
   ]
  },
  {
   "cell_type": "markdown",
   "id": "6d61b096",
   "metadata": {},
   "source": [
    "A newly constructed **Constant** has a name but no value. The default printable representation is just the name string. For this example, we need to assign a value and the needed $\\LaTeX$ math symbol."
   ]
  },
  {
   "cell_type": "code",
   "execution_count": 37,
   "id": "2feb766b",
   "metadata": {},
   "outputs": [
    {
     "data": {
      "text/latex": [
       "$\\displaystyle \\pi$"
      ],
      "text/plain": [
       "<IPython.core.display.Math object>"
      ]
     },
     "metadata": {},
     "output_type": "display_data"
    }
   ],
   "source": [
    "pi.latex = '\\pi'    # latex code\n",
    "pi.value = math.pi  # assign a value to this constant\n",
    "pi.print()          # show the latex symbol in Jupyter "
   ]
  },
  {
   "cell_type": "markdown",
   "id": "763ab7c2",
   "metadata": {},
   "source": [
    "One more routine is available to show the constant and its value. This will be handy in debugging:"
   ]
  },
  {
   "cell_type": "code",
   "execution_count": 38,
   "id": "0874c553",
   "metadata": {},
   "outputs": [
    {
     "data": {
      "text/latex": [
       "$\\displaystyle \\pi=3.141592653589793$"
      ],
      "text/plain": [
       "<IPython.core.display.Math object>"
      ]
     },
     "metadata": {},
     "output_type": "display_data"
    }
   ],
   "source": [
    "pi.dump()"
   ]
  },
  {
   "cell_type": "markdown",
   "id": "66bbcddd",
   "metadata": {},
   "source": [
    "Next, we will build something a bit more complicated: a volume integral. "
   ]
  },
  {
   "cell_type": "code",
   "execution_count": 39,
   "id": "47525808",
   "metadata": {},
   "outputs": [],
   "source": [
    "%reload_ext tikzmagic"
   ]
  },
  {
   "cell_type": "code",
   "execution_count": 48,
   "id": "a6a738dd",
   "metadata": {},
   "outputs": [
    {
     "data": {
      "image/png": "[encoded data removed]"
     },
     "metadata": {},
     "output_type": "display_data"
    }
   ],
   "source": [
    "%%tikz -l trees -sc=2\n",
    "\n",
    "\n",
    "\\tikzstyle{every node}=[circle,draw]\n",
    "\\node (Root) [red] {vIntegral}\n",
    "    child { node {integrand}}\n",
    "    child { node {Variable}};"
   ]
  },
  {
   "cell_type": "code",
   "execution_count": 45,
   "id": "f6ef3c2c",
   "metadata": {},
   "outputs": [],
   "source": [
    "class VIntegral(Symbolic):\n",
    "    def __init__(self, integrand, variable):\n",
    "        self.integrand = integrand\n",
    "        self.variable = variable\n",
    "        self._latex = f'\\iiint\\limits_{self.variable}({self.integrand})d{self.variable}'   \n",
    "        \n",
    "    def latex(self):\n",
    "        return self._latex "
   ]
  },
  {
   "cell_type": "code",
   "execution_count": 46,
   "id": "5ac556e7",
   "metadata": {
    "scrolled": true
   },
   "outputs": [
    {
     "data": {
      "text/latex": [
       "$\\displaystyle \\iiint\\limits_R(f)dR$"
      ],
      "text/plain": [
       "<IPython.core.display.Math object>"
      ]
     },
     "metadata": {},
     "output_type": "display_data"
    }
   ],
   "source": [
    "eq = VIntegral('f','R')\n",
    "eq.show()"
   ]
  },
  {
   "cell_type": "code",
   "execution_count": 20,
   "id": "8c81a841",
   "metadata": {},
   "outputs": [
    {
     "data": {
      "image/png": "[encoded data removed]"
     },
     "metadata": {},
     "output_type": "display_data"
    }
   ],
   "source": [
    "%%tikz -l trees -sc=2\n",
    "\n",
    "\\tikzstyle{every node}=[circle,draw]\n",
    "\\node (Root) [red] {vIntegral}\n",
    "    child { node {integrand}}\n",
    "    child { node {differential}};"
   ]
  },
  {
   "cell_type": "code",
   "execution_count": 23,
   "id": "06a09f29",
   "metadata": {},
   "outputs": [],
   "source": [
    "class Equation(Symbolic):\n",
    "    def __init__(self, lhExp, rhExp):\n",
    "        self.lhExp = lhExp\n",
    "        self.rhExp = rhExp\n",
    "        \n",
    "    def latex(self):\n",
    "        return self.lhExp.latex() + '=' + self.rhExp.latex() "
   ]
  },
  {
   "cell_type": "code",
   "execution_count": 24,
   "id": "f5af1786",
   "metadata": {},
   "outputs": [
    {
     "data": {
      "text/latex": [
       "$\\displaystyle \\iiint\\limits_R(f)dR=\\iiint\\limits_R(f)dR$"
      ],
      "text/plain": [
       "<IPython.core.display.Math object>"
      ]
     },
     "metadata": {},
     "output_type": "display_data"
    }
   ],
   "source": [
    "eq = Equation(VIntegral('f','R'), VIntegral('f','R'))\n",
    "eq.show()"
   ]
  },
  {
   "cell_type": "code",
   "execution_count": 25,
   "id": "33e3cadb",
   "metadata": {},
   "outputs": [],
   "source": [
    "class Constant(Symbolic):\n",
    "    def __init__(self, constant):\n",
    "        self.constant = constant\n",
    "        \n",
    "    def latex(self):\n",
    "        return f'{self.constant}'"
   ]
  },
  {
   "cell_type": "code",
   "execution_count": 26,
   "id": "bec936ed",
   "metadata": {},
   "outputs": [
    {
     "data": {
      "text/latex": [
       "$\\displaystyle R$"
      ],
      "text/plain": [
       "<IPython.core.display.Math object>"
      ]
     },
     "metadata": {},
     "output_type": "display_data"
    }
   ],
   "source": [
    "c = Constant('R')\n",
    "c.show()"
   ]
  },
  {
   "cell_type": "code",
   "execution_count": 27,
   "id": "fbdc9ab9",
   "metadata": {},
   "outputs": [],
   "source": [
    "class Expression(Symbolic):\n",
    "    \n",
    "    def __init__(self, *exps):\n",
    "        self.exps = list(exps)\n",
    "        \n",
    "    def latex(self):\n",
    "        s = ''\n",
    "        for e in self.exps:\n",
    "            s += e.latex() + ' '\n",
    "        return s\n",
    "    \n",
    "    def show(self):\n",
    "        display(Math(self.latex()))\n",
    "        "
   ]
  },
  {
   "cell_type": "code",
   "execution_count": 121,
   "id": "cba23ff9",
   "metadata": {},
   "outputs": [
    {
     "data": {
      "text/latex": [
       "$\\displaystyle \\rho u v $"
      ],
      "text/plain": [
       "<IPython.core.display.Math object>"
      ]
     },
     "metadata": {},
     "output_type": "display_data"
    }
   ],
   "source": [
    "e = Expression([Constant(r'\\rho'),Constant('u'),Constant('v')])\n",
    "e.show()"
   ]
  },
  {
   "cell_type": "code",
   "execution_count": 122,
   "id": "a302820a",
   "metadata": {},
   "outputs": [
    {
     "data": {
      "text/latex": [
       "$\\displaystyle \\iiint\\limits_<__main__.Constant object at 0x115e5eef0>(<__main__.Expression object at 0x115e5e590>)d<__main__.Constant object at 0x115e5eef0>$"
      ],
      "text/plain": [
       "<IPython.core.display.Math object>"
      ]
     },
     "metadata": {},
     "output_type": "display_data"
    }
   ],
   "source": [
    "e2 = VIntegral(e,Constant('R'))\n",
    "e2.show()"
   ]
  },
  {
   "cell_type": "code",
   "execution_count": null,
   "id": "37419759",
   "metadata": {},
   "outputs": [],
   "source": []
  }
 ],
 "metadata": {
  "kernelspec": {
   "display_name": "Python 3 (ipykernel)",
   "language": "python",
   "name": "python3"
  },
  "language_info": {
   "codemirror_mode": {
    "name": "ipython",
    "version": 3
   },
   "file_extension": ".py",
   "mimetype": "text/x-python",
   "name": "python",
   "nbconvert_exporter": "python",
   "pygments_lexer": "ipython3",
   "version": "3.10.2"
  },
  "toc": {
   "base_numbering": 1,
   "nav_menu": {},
   "number_sections": true,
   "sideBar": true,
   "skip_h1_title": false,
   "title_cell": "Table of Contents",
   "title_sidebar": "Contents",
   "toc_cell": false,
   "toc_position": {},
   "toc_section_display": true,
   "toc_window_display": false
  },
  "varInspector": {
   "cols": {
    "lenName": 16,
    "lenType": 16,
    "lenVar": 40
   },
   "kernels_config": {
    "python": {
     "delete_cmd_postfix": "",
     "delete_cmd_prefix": "del ",
     "library": "var_list.py",
     "varRefreshCmd": "print(var_dic_list())"
    },
    "r": {
     "delete_cmd_postfix": ") ",
     "delete_cmd_prefix": "rm(",
     "library": "var_list.r",
     "varRefreshCmd": "cat(var_dic_list()) "
    }
   },
   "types_to_exclude": [
    "module",
    "function",
    "builtin_function_or_method",
    "instance",
    "_Feature"
   ],
   "window_display": false
  }
 },
 "nbformat": 4,
 "nbformat_minor": 5
}
