{
 "cells": [
  {
   "cell_type": "markdown",
   "id": "f720a7ce",
   "metadata": {},
   "source": [
    "# Derivation Using Sympy"
   ]
  },
  {
   "cell_type": "code",
   "execution_count": 4,
   "id": "20095378",
   "metadata": {},
   "outputs": [],
   "source": [
    "import sympy\n",
    "from sympy import Eq"
   ]
  },
  {
   "cell_type": "code",
   "execution_count": 8,
   "id": "7c0072b7",
   "metadata": {},
   "outputs": [],
   "source": [
    "rho, u,v,w,P,T, t = sympy.symbols('rho u v w P T t')\n",
    "rho_t = sympy.symbols('rho_t')"
   ]
  },
  {
   "cell_type": "code",
   "execution_count": 10,
   "id": "9239bc11",
   "metadata": {},
   "outputs": [],
   "source": [
    "mass = Eq(rho_t, sympy.diff(rho,t))"
   ]
  },
  {
   "cell_type": "code",
   "execution_count": 12,
   "id": "0197cafc",
   "metadata": {},
   "outputs": [
    {
     "data": {
      "text/latex": [
       "$\\displaystyle 0$"
      ],
      "text/plain": [
       "0"
      ]
     },
     "execution_count": 12,
     "metadata": {},
     "output_type": "execute_result"
    }
   ],
   "source": [
    "mass.rhs"
   ]
  },
  {
   "cell_type": "markdown",
   "id": "6f751209",
   "metadata": {},
   "source": []
  }
 ],
 "metadata": {
  "kernelspec": {
   "display_name": "Python 3 (ipykernel)",
   "language": "python",
   "name": "python3"
  },
  "language_info": {
   "codemirror_mode": {
    "name": "ipython",
    "version": 3
   },
   "file_extension": ".py",
   "mimetype": "text/x-python",
   "name": "python",
   "nbconvert_exporter": "python",
   "pygments_lexer": "ipython3",
   "version": "3.10.2"
  },
  "toc": {
   "base_numbering": 1,
   "nav_menu": {},
   "number_sections": true,
   "sideBar": true,
   "skip_h1_title": false,
   "title_cell": "Table of Contents",
   "title_sidebar": "Contents",
   "toc_cell": false,
   "toc_position": {},
   "toc_section_display": true,
   "toc_window_display": false
  },
  "varInspector": {
   "cols": {
    "lenName": 16,
    "lenType": 16,
    "lenVar": 40
   },
   "kernels_config": {
    "python": {
     "delete_cmd_postfix": "",
     "delete_cmd_prefix": "del ",
     "library": "var_list.py",
     "varRefreshCmd": "print(var_dic_list())"
    },
    "r": {
     "delete_cmd_postfix": ") ",
     "delete_cmd_prefix": "rm(",
     "library": "var_list.r",
     "varRefreshCmd": "cat(var_dic_list()) "
    }
   },
   "types_to_exclude": [
    "module",
    "function",
    "builtin_function_or_method",
    "instance",
    "_Feature"
   ],
   "window_display": false
  }
 },
 "nbformat": 4,
 "nbformat_minor": 5
}
